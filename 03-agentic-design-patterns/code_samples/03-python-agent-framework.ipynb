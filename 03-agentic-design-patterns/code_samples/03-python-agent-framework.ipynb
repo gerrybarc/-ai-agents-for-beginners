{
  "cells": [
    {
      "cell_type": "markdown",
      "id": "2012ea09",
      "metadata": {
        "id": "2012ea09"
      },
      "source": [
        "# 🎨 Agentic Design Patterns with GitHub Models (Python)\n",
        "\n",
        "## 📋 Learning Objectives\n",
        "\n",
        "This notebook demonstrates essential design patterns for building intelligent agents using the Microsoft Agent Framework with GitHub Models integration. You'll learn proven patterns and architectural approaches that make agents more robust, maintainable, and effective.\n",
        "\n",
        "**Core Design Patterns Covered:**\n",
        "- 🏗️ **Agent Factory Pattern**: Standardized agent creation and configuration\n",
        "- 🔧 **Tool Registry Pattern**: Organized approach to managing agent capabilities\n",
        "- 🧵 **Conversation Management**: Effective patterns for multi-turn interactions\n",
        "- 🔄 **Response Processing**: Best practices for handling agent outputs\n",
        "\n",
        "## 🎯 Key Architectural Concepts\n",
        "\n",
        "### Design Principles\n",
        "- **Separation of Concerns**: Clear boundaries between agent logic, tools, and configuration\n",
        "- **Composability**: Building complex agents from reusable components\n",
        "- **Extensibility**: Patterns that allow easy addition of new capabilities\n",
        "- **Testability**: Design for easy unit testing and validation\n",
        "\n",
        "### GitHub Models Integration\n",
        "- **API Compatibility**: Leveraging OpenAI-compatible endpoints\n",
        "- **Model Selection**: Choosing appropriate models for different use cases\n",
        "- **Rate Limiting**: Handling API constraints gracefully\n",
        "- **Error Recovery**: Robust error handling and retry patterns\n",
        "\n",
        "## 🔧 Technical Architecture\n",
        "\n",
        "### Core Components\n",
        "- **Microsoft Agent Framework**: Python implementation with GitHub Models support\n",
        "- **GitHub Models API**: Access to state-of-the-art language models\n",
        "- **OpenAI Client Pattern**: Standardized API interaction patterns\n",
        "- **Environment Configuration**: Secure and flexible configuration management\n",
        "\n",
        "### Design Pattern Benefits\n",
        "- **Maintainability**: Clear code organization and structure\n",
        "- **Scalability**: Patterns that grow with your application needs\n",
        "- **Reliability**: Proven approaches that handle edge cases\n",
        "- **Performance**: Efficient resource utilization and API usage\n",
        "\n",
        "## ⚙️ Prerequisites & Setup\n",
        "\n",
        "**Required Dependencies:**\n",
        "```bash\n",
        "\n",
        "pip install agent-framework-core  -U\n",
        "\n",
        "```\n",
        "\n",
        "**Environment Configuration (.env file):**\n",
        "```env\n",
        "GITHUB_TOKEN=your_github_personal_access_token\n",
        "GITHUB_ENDPOINT=https://models.inference.ai.azure.com\n",
        "GITHUB_MODEL_ID=gpt-4o-mini\n",
        "```\n",
        "\n",
        "**GitHub Models Access:**\n",
        "- GitHub account with Models access\n",
        "- Personal access token with appropriate permissions\n",
        "- Understanding of rate limits and usage patterns\n",
        "\n",
        "## 📚 Design Pattern Categories\n",
        "\n",
        "### 1. **Creational Patterns**\n",
        "- Agent factory and builder patterns\n",
        "- Configuration management patterns\n",
        "- Dependency injection for agent services\n",
        "\n",
        "### 2. **Behavioral Patterns**\n",
        "- Tool execution and orchestration\n",
        "- Conversation flow management  \n",
        "- Response processing and formatting\n",
        "\n",
        "### 3. **Integration Patterns**\n",
        "- GitHub Models API integration\n",
        "- Error handling and retry logic\n",
        "- Resource management and cleanup\n",
        "\n",
        "## 🚀 Best Practices Demonstrated\n",
        "\n",
        "- **Clean Architecture**: Layered design with clear responsibilities\n",
        "- **Error Handling**: Comprehensive exception management\n",
        "- **Configuration**: Environment-based setup for different environments\n",
        "- **Testing**: Patterns that enable effective unit and integration testing\n",
        "- **Documentation**: Self-documenting code with clear intent\n",
        "\n",
        "Ready to explore professional agent design patterns? Let's build something robust! 🌟"
      ]
    },
    {
      "cell_type": "code",
      "execution_count": 1,
      "id": "d9feb817",
      "metadata": {
        "colab": {
          "base_uri": "https://localhost:8080/"
        },
        "id": "d9feb817",
        "outputId": "b22af9bd-a237-4cc4-f73e-b6e1a405b2b0"
      },
      "outputs": [
        {
          "output_type": "stream",
          "name": "stdout",
          "text": [
            "Collecting agent-framework-core\n",
            "  Downloading agent_framework_core-1.0.0b251001-py3-none-any.whl.metadata (9.1 kB)\n",
            "Requirement already satisfied: openai>=1.99.0 in /usr/local/lib/python3.12/dist-packages (from agent-framework-core) (1.109.1)\n",
            "Requirement already satisfied: pydantic<3,>=2 in /usr/local/lib/python3.12/dist-packages (from agent-framework-core) (2.11.9)\n",
            "Requirement already satisfied: pydantic-settings<3,>=2 in /usr/local/lib/python3.12/dist-packages (from agent-framework-core) (2.11.0)\n",
            "Requirement already satisfied: typing-extensions in /usr/local/lib/python3.12/dist-packages (from agent-framework-core) (4.15.0)\n",
            "Requirement already satisfied: opentelemetry-api>=1.24 in /usr/local/lib/python3.12/dist-packages (from agent-framework-core) (1.37.0)\n",
            "Requirement already satisfied: opentelemetry-sdk>=1.24 in /usr/local/lib/python3.12/dist-packages (from agent-framework-core) (1.37.0)\n",
            "Requirement already satisfied: mcp>=1.13 in /usr/local/lib/python3.12/dist-packages (from mcp[ws]>=1.13->agent-framework-core) (1.15.0)\n",
            "Collecting azure-monitor-opentelemetry>=1.7.0 (from agent-framework-core)\n",
            "  Downloading azure_monitor_opentelemetry-1.8.1-py3-none-any.whl.metadata (23 kB)\n",
            "Collecting azure-monitor-opentelemetry-exporter>=1.0.0b41 (from agent-framework-core)\n",
            "  Downloading azure_monitor_opentelemetry_exporter-1.0.0b42-py2.py3-none-any.whl.metadata (33 kB)\n",
            "Collecting opentelemetry-exporter-otlp-proto-grpc>=1.36.0 (from agent-framework-core)\n",
            "  Downloading opentelemetry_exporter_otlp_proto_grpc-1.37.0-py3-none-any.whl.metadata (2.4 kB)\n",
            "Collecting opentelemetry-semantic-conventions-ai>=0.4.13 (from agent-framework-core)\n",
            "  Downloading opentelemetry_semantic_conventions_ai-0.4.13-py3-none-any.whl.metadata (1.1 kB)\n",
            "Requirement already satisfied: aiofiles>=24.1.0 in /usr/local/lib/python3.12/dist-packages (from agent-framework-core) (24.1.0)\n",
            "Collecting azure-identity<2,>=1 (from agent-framework-core)\n",
            "  Downloading azure_identity-1.25.0-py3-none-any.whl.metadata (87 kB)\n",
            "\u001b[2K     \u001b[90m━━━━━━━━━━━━━━━━━━━━━━━━━━━━━━━━━━━━━━━━\u001b[0m \u001b[32m88.0/88.0 kB\u001b[0m \u001b[31m3.0 MB/s\u001b[0m eta \u001b[36m0:00:00\u001b[0m\n",
            "\u001b[?25hCollecting azure-core>=1.31.0 (from azure-identity<2,>=1->agent-framework-core)\n",
            "  Downloading azure_core-1.35.1-py3-none-any.whl.metadata (46 kB)\n",
            "\u001b[2K     \u001b[90m━━━━━━━━━━━━━━━━━━━━━━━━━━━━━━━━━━━━━━━━\u001b[0m \u001b[32m46.5/46.5 kB\u001b[0m \u001b[31m1.8 MB/s\u001b[0m eta \u001b[36m0:00:00\u001b[0m\n",
            "\u001b[?25hRequirement already satisfied: cryptography>=2.5 in /usr/local/lib/python3.12/dist-packages (from azure-identity<2,>=1->agent-framework-core) (43.0.3)\n",
            "Collecting msal>=1.30.0 (from azure-identity<2,>=1->agent-framework-core)\n",
            "  Downloading msal-1.34.0-py3-none-any.whl.metadata (11 kB)\n",
            "Collecting msal-extensions>=1.2.0 (from azure-identity<2,>=1->agent-framework-core)\n",
            "  Downloading msal_extensions-1.3.1-py3-none-any.whl.metadata (7.8 kB)\n",
            "Collecting azure-core-tracing-opentelemetry~=1.0.0b11 (from azure-monitor-opentelemetry>=1.7.0->agent-framework-core)\n",
            "  Downloading azure_core_tracing_opentelemetry-1.0.0b12-py3-none-any.whl.metadata (11 kB)\n",
            "Collecting opentelemetry-instrumentation-django~=0.57b0 (from azure-monitor-opentelemetry>=1.7.0->agent-framework-core)\n",
            "  Downloading opentelemetry_instrumentation_django-0.58b0-py3-none-any.whl.metadata (2.3 kB)\n",
            "Collecting opentelemetry-instrumentation-fastapi~=0.57b0 (from azure-monitor-opentelemetry>=1.7.0->agent-framework-core)\n",
            "  Downloading opentelemetry_instrumentation_fastapi-0.58b0-py3-none-any.whl.metadata (2.2 kB)\n",
            "Collecting opentelemetry-instrumentation-flask~=0.57b0 (from azure-monitor-opentelemetry>=1.7.0->agent-framework-core)\n",
            "  Downloading opentelemetry_instrumentation_flask-0.58b0-py3-none-any.whl.metadata (2.2 kB)\n",
            "Collecting opentelemetry-instrumentation-psycopg2~=0.57b0 (from azure-monitor-opentelemetry>=1.7.0->agent-framework-core)\n",
            "  Downloading opentelemetry_instrumentation_psycopg2-0.58b0-py3-none-any.whl.metadata (2.1 kB)\n",
            "Collecting opentelemetry-instrumentation-requests~=0.57b0 (from azure-monitor-opentelemetry>=1.7.0->agent-framework-core)\n",
            "  Downloading opentelemetry_instrumentation_requests-0.58b0-py3-none-any.whl.metadata (2.6 kB)\n",
            "Collecting opentelemetry-instrumentation-urllib~=0.57b0 (from azure-monitor-opentelemetry>=1.7.0->agent-framework-core)\n",
            "  Downloading opentelemetry_instrumentation_urllib-0.58b0-py3-none-any.whl.metadata (3.4 kB)\n",
            "Collecting opentelemetry-instrumentation-urllib3~=0.57b0 (from azure-monitor-opentelemetry>=1.7.0->agent-framework-core)\n",
            "  Downloading opentelemetry_instrumentation_urllib3-0.58b0-py3-none-any.whl.metadata (4.2 kB)\n",
            "Collecting opentelemetry-resource-detector-azure~=0.1.5 (from azure-monitor-opentelemetry>=1.7.0->agent-framework-core)\n",
            "  Downloading opentelemetry_resource_detector_azure-0.1.5-py3-none-any.whl.metadata (5.3 kB)\n",
            "Collecting fixedint==0.1.6 (from azure-monitor-opentelemetry-exporter>=1.0.0b41->agent-framework-core)\n",
            "  Downloading fixedint-0.1.6-py3-none-any.whl.metadata (4.8 kB)\n",
            "Collecting msrest>=0.6.10 (from azure-monitor-opentelemetry-exporter>=1.0.0b41->agent-framework-core)\n",
            "  Downloading msrest-0.7.1-py3-none-any.whl.metadata (21 kB)\n",
            "Requirement already satisfied: psutil<8,>=5.9 in /usr/local/lib/python3.12/dist-packages (from azure-monitor-opentelemetry-exporter>=1.0.0b41->agent-framework-core) (5.9.5)\n",
            "Requirement already satisfied: anyio>=4.5 in /usr/local/lib/python3.12/dist-packages (from mcp>=1.13->mcp[ws]>=1.13->agent-framework-core) (4.11.0)\n",
            "Requirement already satisfied: httpx-sse>=0.4 in /usr/local/lib/python3.12/dist-packages (from mcp>=1.13->mcp[ws]>=1.13->agent-framework-core) (0.4.1)\n",
            "Requirement already satisfied: httpx>=0.27.1 in /usr/local/lib/python3.12/dist-packages (from mcp>=1.13->mcp[ws]>=1.13->agent-framework-core) (0.28.1)\n",
            "Requirement already satisfied: jsonschema>=4.20.0 in /usr/local/lib/python3.12/dist-packages (from mcp>=1.13->mcp[ws]>=1.13->agent-framework-core) (4.25.1)\n",
            "Requirement already satisfied: python-multipart>=0.0.9 in /usr/local/lib/python3.12/dist-packages (from mcp>=1.13->mcp[ws]>=1.13->agent-framework-core) (0.0.20)\n",
            "Requirement already satisfied: sse-starlette>=1.6.1 in /usr/local/lib/python3.12/dist-packages (from mcp>=1.13->mcp[ws]>=1.13->agent-framework-core) (3.0.2)\n",
            "Requirement already satisfied: starlette>=0.27 in /usr/local/lib/python3.12/dist-packages (from mcp>=1.13->mcp[ws]>=1.13->agent-framework-core) (0.48.0)\n",
            "Requirement already satisfied: uvicorn>=0.31.1 in /usr/local/lib/python3.12/dist-packages (from mcp>=1.13->mcp[ws]>=1.13->agent-framework-core) (0.37.0)\n",
            "Requirement already satisfied: websockets>=15.0.1 in /usr/local/lib/python3.12/dist-packages (from mcp[ws]>=1.13->agent-framework-core) (15.0.1)\n",
            "Requirement already satisfied: distro<2,>=1.7.0 in /usr/local/lib/python3.12/dist-packages (from openai>=1.99.0->agent-framework-core) (1.9.0)\n",
            "Requirement already satisfied: jiter<1,>=0.4.0 in /usr/local/lib/python3.12/dist-packages (from openai>=1.99.0->agent-framework-core) (0.11.0)\n",
            "Requirement already satisfied: sniffio in /usr/local/lib/python3.12/dist-packages (from openai>=1.99.0->agent-framework-core) (1.3.1)\n",
            "Requirement already satisfied: tqdm>4 in /usr/local/lib/python3.12/dist-packages (from openai>=1.99.0->agent-framework-core) (4.67.1)\n",
            "Requirement already satisfied: importlib-metadata<8.8.0,>=6.0 in /usr/local/lib/python3.12/dist-packages (from opentelemetry-api>=1.24->agent-framework-core) (8.7.0)\n",
            "Requirement already satisfied: googleapis-common-protos~=1.57 in /usr/local/lib/python3.12/dist-packages (from opentelemetry-exporter-otlp-proto-grpc>=1.36.0->agent-framework-core) (1.70.0)\n",
            "Requirement already satisfied: grpcio<2.0.0,>=1.63.2 in /usr/local/lib/python3.12/dist-packages (from opentelemetry-exporter-otlp-proto-grpc>=1.36.0->agent-framework-core) (1.75.1)\n",
            "Requirement already satisfied: opentelemetry-exporter-otlp-proto-common==1.37.0 in /usr/local/lib/python3.12/dist-packages (from opentelemetry-exporter-otlp-proto-grpc>=1.36.0->agent-framework-core) (1.37.0)\n",
            "Requirement already satisfied: opentelemetry-proto==1.37.0 in /usr/local/lib/python3.12/dist-packages (from opentelemetry-exporter-otlp-proto-grpc>=1.36.0->agent-framework-core) (1.37.0)\n",
            "Requirement already satisfied: protobuf<7.0,>=5.0 in /usr/local/lib/python3.12/dist-packages (from opentelemetry-proto==1.37.0->opentelemetry-exporter-otlp-proto-grpc>=1.36.0->agent-framework-core) (5.29.5)\n",
            "Requirement already satisfied: opentelemetry-semantic-conventions==0.58b0 in /usr/local/lib/python3.12/dist-packages (from opentelemetry-sdk>=1.24->agent-framework-core) (0.58b0)\n",
            "Requirement already satisfied: annotated-types>=0.6.0 in /usr/local/lib/python3.12/dist-packages (from pydantic<3,>=2->agent-framework-core) (0.7.0)\n",
            "Requirement already satisfied: pydantic-core==2.33.2 in /usr/local/lib/python3.12/dist-packages (from pydantic<3,>=2->agent-framework-core) (2.33.2)\n",
            "Requirement already satisfied: typing-inspection>=0.4.0 in /usr/local/lib/python3.12/dist-packages (from pydantic<3,>=2->agent-framework-core) (0.4.2)\n",
            "Requirement already satisfied: python-dotenv>=0.21.0 in /usr/local/lib/python3.12/dist-packages (from pydantic-settings<3,>=2->agent-framework-core) (1.1.1)\n",
            "Requirement already satisfied: idna>=2.8 in /usr/local/lib/python3.12/dist-packages (from anyio>=4.5->mcp>=1.13->mcp[ws]>=1.13->agent-framework-core) (3.10)\n",
            "Requirement already satisfied: requests>=2.21.0 in /usr/local/lib/python3.12/dist-packages (from azure-core>=1.31.0->azure-identity<2,>=1->agent-framework-core) (2.32.4)\n",
            "Requirement already satisfied: six>=1.11.0 in /usr/local/lib/python3.12/dist-packages (from azure-core>=1.31.0->azure-identity<2,>=1->agent-framework-core) (1.17.0)\n",
            "Requirement already satisfied: cffi>=1.12 in /usr/local/lib/python3.12/dist-packages (from cryptography>=2.5->azure-identity<2,>=1->agent-framework-core) (2.0.0)\n",
            "Requirement already satisfied: certifi in /usr/local/lib/python3.12/dist-packages (from httpx>=0.27.1->mcp>=1.13->mcp[ws]>=1.13->agent-framework-core) (2025.8.3)\n",
            "Requirement already satisfied: httpcore==1.* in /usr/local/lib/python3.12/dist-packages (from httpx>=0.27.1->mcp>=1.13->mcp[ws]>=1.13->agent-framework-core) (1.0.9)\n",
            "Requirement already satisfied: h11>=0.16 in /usr/local/lib/python3.12/dist-packages (from httpcore==1.*->httpx>=0.27.1->mcp>=1.13->mcp[ws]>=1.13->agent-framework-core) (0.16.0)\n",
            "Requirement already satisfied: zipp>=3.20 in /usr/local/lib/python3.12/dist-packages (from importlib-metadata<8.8.0,>=6.0->opentelemetry-api>=1.24->agent-framework-core) (3.23.0)\n",
            "Requirement already satisfied: attrs>=22.2.0 in /usr/local/lib/python3.12/dist-packages (from jsonschema>=4.20.0->mcp>=1.13->mcp[ws]>=1.13->agent-framework-core) (25.3.0)\n",
            "Requirement already satisfied: jsonschema-specifications>=2023.03.6 in /usr/local/lib/python3.12/dist-packages (from jsonschema>=4.20.0->mcp>=1.13->mcp[ws]>=1.13->agent-framework-core) (2025.9.1)\n",
            "Requirement already satisfied: referencing>=0.28.4 in /usr/local/lib/python3.12/dist-packages (from jsonschema>=4.20.0->mcp>=1.13->mcp[ws]>=1.13->agent-framework-core) (0.36.2)\n",
            "Requirement already satisfied: rpds-py>=0.7.1 in /usr/local/lib/python3.12/dist-packages (from jsonschema>=4.20.0->mcp>=1.13->mcp[ws]>=1.13->agent-framework-core) (0.27.1)\n",
            "Requirement already satisfied: PyJWT<3,>=1.0.0 in /usr/local/lib/python3.12/dist-packages (from PyJWT[crypto]<3,>=1.0.0->msal>=1.30.0->azure-identity<2,>=1->agent-framework-core) (2.10.1)\n",
            "Collecting isodate>=0.6.0 (from msrest>=0.6.10->azure-monitor-opentelemetry-exporter>=1.0.0b41->agent-framework-core)\n",
            "  Downloading isodate-0.7.2-py3-none-any.whl.metadata (11 kB)\n",
            "Requirement already satisfied: requests-oauthlib>=0.5.0 in /usr/local/lib/python3.12/dist-packages (from msrest>=0.6.10->azure-monitor-opentelemetry-exporter>=1.0.0b41->agent-framework-core) (2.0.0)\n",
            "Collecting opentelemetry-instrumentation-wsgi==0.58b0 (from opentelemetry-instrumentation-django~=0.57b0->azure-monitor-opentelemetry>=1.7.0->agent-framework-core)\n",
            "  Downloading opentelemetry_instrumentation_wsgi-0.58b0-py3-none-any.whl.metadata (2.1 kB)\n",
            "Collecting opentelemetry-instrumentation==0.58b0 (from opentelemetry-instrumentation-django~=0.57b0->azure-monitor-opentelemetry>=1.7.0->agent-framework-core)\n",
            "  Downloading opentelemetry_instrumentation-0.58b0-py3-none-any.whl.metadata (7.1 kB)\n",
            "Collecting opentelemetry-util-http==0.58b0 (from opentelemetry-instrumentation-django~=0.57b0->azure-monitor-opentelemetry>=1.7.0->agent-framework-core)\n",
            "  Downloading opentelemetry_util_http-0.58b0-py3-none-any.whl.metadata (2.6 kB)\n",
            "Requirement already satisfied: packaging>=18.0 in /usr/local/lib/python3.12/dist-packages (from opentelemetry-instrumentation==0.58b0->opentelemetry-instrumentation-django~=0.57b0->azure-monitor-opentelemetry>=1.7.0->agent-framework-core) (25.0)\n",
            "Requirement already satisfied: wrapt<2.0.0,>=1.0.0 in /usr/local/lib/python3.12/dist-packages (from opentelemetry-instrumentation==0.58b0->opentelemetry-instrumentation-django~=0.57b0->azure-monitor-opentelemetry>=1.7.0->agent-framework-core) (1.17.3)\n",
            "Collecting opentelemetry-instrumentation-asgi==0.58b0 (from opentelemetry-instrumentation-fastapi~=0.57b0->azure-monitor-opentelemetry>=1.7.0->agent-framework-core)\n",
            "  Downloading opentelemetry_instrumentation_asgi-0.58b0-py3-none-any.whl.metadata (2.0 kB)\n",
            "Collecting asgiref~=3.0 (from opentelemetry-instrumentation-asgi==0.58b0->opentelemetry-instrumentation-fastapi~=0.57b0->azure-monitor-opentelemetry>=1.7.0->agent-framework-core)\n",
            "  Downloading asgiref-3.10.0-py3-none-any.whl.metadata (9.3 kB)\n",
            "Collecting opentelemetry-instrumentation-dbapi==0.58b0 (from opentelemetry-instrumentation-psycopg2~=0.57b0->azure-monitor-opentelemetry>=1.7.0->agent-framework-core)\n",
            "  Downloading opentelemetry_instrumentation_dbapi-0.58b0-py3-none-any.whl.metadata (2.0 kB)\n",
            "Requirement already satisfied: click>=7.0 in /usr/local/lib/python3.12/dist-packages (from uvicorn>=0.31.1->mcp>=1.13->mcp[ws]>=1.13->agent-framework-core) (8.3.0)\n",
            "Requirement already satisfied: pycparser in /usr/local/lib/python3.12/dist-packages (from cffi>=1.12->cryptography>=2.5->azure-identity<2,>=1->agent-framework-core) (2.23)\n",
            "Requirement already satisfied: charset_normalizer<4,>=2 in /usr/local/lib/python3.12/dist-packages (from requests>=2.21.0->azure-core>=1.31.0->azure-identity<2,>=1->agent-framework-core) (3.4.3)\n",
            "Requirement already satisfied: urllib3<3,>=1.21.1 in /usr/local/lib/python3.12/dist-packages (from requests>=2.21.0->azure-core>=1.31.0->azure-identity<2,>=1->agent-framework-core) (2.5.0)\n",
            "Requirement already satisfied: oauthlib>=3.0.0 in /usr/local/lib/python3.12/dist-packages (from requests-oauthlib>=0.5.0->msrest>=0.6.10->azure-monitor-opentelemetry-exporter>=1.0.0b41->agent-framework-core) (3.3.1)\n",
            "Downloading agent_framework_core-1.0.0b251001-py3-none-any.whl (239 kB)\n",
            "\u001b[2K   \u001b[90m━━━━━━━━━━━━━━━━━━━━━━━━━━━━━━━━━━━━━━━━\u001b[0m \u001b[32m239.8/239.8 kB\u001b[0m \u001b[31m19.3 MB/s\u001b[0m eta \u001b[36m0:00:00\u001b[0m\n",
            "\u001b[?25hDownloading azure_identity-1.25.0-py3-none-any.whl (190 kB)\n",
            "\u001b[2K   \u001b[90m━━━━━━━━━━━━━━━━━━━━━━━━━━━━━━━━━━━━━━━━\u001b[0m \u001b[32m190.9/190.9 kB\u001b[0m \u001b[31m16.9 MB/s\u001b[0m eta \u001b[36m0:00:00\u001b[0m\n",
            "\u001b[?25hDownloading azure_monitor_opentelemetry-1.8.1-py3-none-any.whl (27 kB)\n",
            "Downloading azure_monitor_opentelemetry_exporter-1.0.0b42-py2.py3-none-any.whl (183 kB)\n",
            "\u001b[2K   \u001b[90m━━━━━━━━━━━━━━━━━━━━━━━━━━━━━━━━━━━━━━━━\u001b[0m \u001b[32m183.3/183.3 kB\u001b[0m \u001b[31m15.6 MB/s\u001b[0m eta \u001b[36m0:00:00\u001b[0m\n",
            "\u001b[?25hDownloading fixedint-0.1.6-py3-none-any.whl (12 kB)\n",
            "Downloading opentelemetry_exporter_otlp_proto_grpc-1.37.0-py3-none-any.whl (19 kB)\n",
            "Downloading opentelemetry_semantic_conventions_ai-0.4.13-py3-none-any.whl (6.1 kB)\n",
            "Downloading azure_core-1.35.1-py3-none-any.whl (211 kB)\n",
            "\u001b[2K   \u001b[90m━━━━━━━━━━━━━━━━━━━━━━━━━━━━━━━━━━━━━━━━\u001b[0m \u001b[32m211.8/211.8 kB\u001b[0m \u001b[31m18.0 MB/s\u001b[0m eta \u001b[36m0:00:00\u001b[0m\n",
            "\u001b[?25hDownloading azure_core_tracing_opentelemetry-1.0.0b12-py3-none-any.whl (11 kB)\n",
            "Downloading msal-1.34.0-py3-none-any.whl (116 kB)\n",
            "\u001b[2K   \u001b[90m━━━━━━━━━━━━━━━━━━━━━━━━━━━━━━━━━━━━━━━━\u001b[0m \u001b[32m117.0/117.0 kB\u001b[0m \u001b[31m9.5 MB/s\u001b[0m eta \u001b[36m0:00:00\u001b[0m\n",
            "\u001b[?25hDownloading msal_extensions-1.3.1-py3-none-any.whl (20 kB)\n",
            "Downloading msrest-0.7.1-py3-none-any.whl (85 kB)\n",
            "\u001b[2K   \u001b[90m━━━━━━━━━━━━━━━━━━━━━━━━━━━━━━━━━━━━━━━━\u001b[0m \u001b[32m85.4/85.4 kB\u001b[0m \u001b[31m7.4 MB/s\u001b[0m eta \u001b[36m0:00:00\u001b[0m\n",
            "\u001b[?25hDownloading opentelemetry_instrumentation_django-0.58b0-py3-none-any.whl (19 kB)\n",
            "Downloading opentelemetry_instrumentation-0.58b0-py3-none-any.whl (33 kB)\n",
            "Downloading opentelemetry_instrumentation_wsgi-0.58b0-py3-none-any.whl (14 kB)\n",
            "Downloading opentelemetry_util_http-0.58b0-py3-none-any.whl (7.7 kB)\n",
            "Downloading opentelemetry_instrumentation_fastapi-0.58b0-py3-none-any.whl (13 kB)\n",
            "Downloading opentelemetry_instrumentation_asgi-0.58b0-py3-none-any.whl (16 kB)\n",
            "Downloading opentelemetry_instrumentation_flask-0.58b0-py3-none-any.whl (14 kB)\n",
            "Downloading opentelemetry_instrumentation_psycopg2-0.58b0-py3-none-any.whl (10 kB)\n",
            "Downloading opentelemetry_instrumentation_dbapi-0.58b0-py3-none-any.whl (12 kB)\n",
            "Downloading opentelemetry_instrumentation_requests-0.58b0-py3-none-any.whl (12 kB)\n",
            "Downloading opentelemetry_instrumentation_urllib-0.58b0-py3-none-any.whl (12 kB)\n",
            "Downloading opentelemetry_instrumentation_urllib3-0.58b0-py3-none-any.whl (13 kB)\n",
            "Downloading opentelemetry_resource_detector_azure-0.1.5-py3-none-any.whl (14 kB)\n",
            "Downloading isodate-0.7.2-py3-none-any.whl (22 kB)\n",
            "Downloading asgiref-3.10.0-py3-none-any.whl (24 kB)\n",
            "Installing collected packages: fixedint, opentelemetry-util-http, opentelemetry-semantic-conventions-ai, isodate, asgiref, azure-core, msrest, azure-core-tracing-opentelemetry, opentelemetry-instrumentation, msal, opentelemetry-resource-detector-azure, opentelemetry-instrumentation-wsgi, opentelemetry-instrumentation-urllib3, opentelemetry-instrumentation-urllib, opentelemetry-instrumentation-requests, opentelemetry-instrumentation-dbapi, opentelemetry-instrumentation-asgi, opentelemetry-exporter-otlp-proto-grpc, msal-extensions, opentelemetry-instrumentation-psycopg2, opentelemetry-instrumentation-flask, opentelemetry-instrumentation-fastapi, opentelemetry-instrumentation-django, azure-identity, azure-monitor-opentelemetry-exporter, azure-monitor-opentelemetry, agent-framework-core\n",
            "Successfully installed agent-framework-core-1.0.0b251001 asgiref-3.10.0 azure-core-1.35.1 azure-core-tracing-opentelemetry-1.0.0b12 azure-identity-1.25.0 azure-monitor-opentelemetry-1.8.1 azure-monitor-opentelemetry-exporter-1.0.0b42 fixedint-0.1.6 isodate-0.7.2 msal-1.34.0 msal-extensions-1.3.1 msrest-0.7.1 opentelemetry-exporter-otlp-proto-grpc-1.37.0 opentelemetry-instrumentation-0.58b0 opentelemetry-instrumentation-asgi-0.58b0 opentelemetry-instrumentation-dbapi-0.58b0 opentelemetry-instrumentation-django-0.58b0 opentelemetry-instrumentation-fastapi-0.58b0 opentelemetry-instrumentation-flask-0.58b0 opentelemetry-instrumentation-psycopg2-0.58b0 opentelemetry-instrumentation-requests-0.58b0 opentelemetry-instrumentation-urllib-0.58b0 opentelemetry-instrumentation-urllib3-0.58b0 opentelemetry-instrumentation-wsgi-0.58b0 opentelemetry-resource-detector-azure-0.1.5 opentelemetry-semantic-conventions-ai-0.4.13 opentelemetry-util-http-0.58b0\n"
          ]
        }
      ],
      "source": [
        "! pip install agent-framework-core  -U"
      ]
    },
    {
      "cell_type": "code",
      "source": [
        "from google.colab import userdata\n",
        "\n",
        "#GITHUB_TOKEN=userdata.get('GITHUB_TOKEN')\n",
        "#GITHUB_ENDPOINT=userdata.get('GITHUB_ENDPOINT')\n",
        "#GITHUB_MODEL_ID=userdata.get('GITHUB_MODEL_ID')"
      ],
      "metadata": {
        "id": "ffiARGkTrV5H"
      },
      "id": "ffiARGkTrV5H",
      "execution_count": 7,
      "outputs": []
    },
    {
      "cell_type": "code",
      "execution_count": 2,
      "id": "c0df8a52",
      "metadata": {
        "id": "c0df8a52"
      },
      "outputs": [],
      "source": [
        "# 📦 Import Core Libraries for Agent Design Patterns\n",
        "import os                     # Environment variable access for configuration management\n",
        "from random import randint    # Random selection utilities for tool functionality\n",
        "\n",
        "from dotenv import load_dotenv  # Secure environment configuration loading"
      ]
    },
    {
      "cell_type": "code",
      "execution_count": 3,
      "id": "151e0314",
      "metadata": {
        "id": "151e0314"
      },
      "outputs": [],
      "source": [
        "# 🤖 Import Microsoft Agent Framework Components\n",
        "# ChatAgent: Core agent orchestration class following factory pattern\n",
        "# OpenAIChatClient: GitHub Models integration following adapter pattern\n",
        "from agent_framework import ChatAgent\n",
        "from agent_framework.openai import OpenAIChatClient"
      ]
    },
    {
      "cell_type": "code",
      "execution_count": 4,
      "id": "a6141584",
      "metadata": {
        "colab": {
          "base_uri": "https://localhost:8080/"
        },
        "id": "a6141584",
        "outputId": "f53ac28c-dd13-42fc-b8e3-c3900dd78c21"
      },
      "outputs": [
        {
          "output_type": "execute_result",
          "data": {
            "text/plain": [
              "False"
            ]
          },
          "metadata": {},
          "execution_count": 4
        }
      ],
      "source": [
        "# 🔧 Configuration Loading Pattern\n",
        "# Implement configuration management pattern for secure credential handling\n",
        "# This follows the external configuration principle for cloud-native applications\n",
        "load_dotenv()"
      ]
    },
    {
      "cell_type": "code",
      "execution_count": 5,
      "id": "a6507f83",
      "metadata": {
        "id": "a6507f83"
      },
      "outputs": [],
      "source": [
        "# 🛠️ Tool Function Design Pattern\n",
        "# Implements the Strategy Pattern for pluggable agent capabilities\n",
        "# This demonstrates clean separation of business logic from agent orchestration\n",
        "def get_random_destination() -> str:\n",
        "    \"\"\"Get a random vacation destination using Repository Pattern.\n",
        "\n",
        "    This function exemplifies several design patterns:\n",
        "    - Strategy Pattern: Interchangeable algorithm for destination selection\n",
        "    - Repository Pattern: Encapsulates data access logic\n",
        "    - Factory Method: Creates destination objects on demand\n",
        "\n",
        "    Returns:\n",
        "        str: A randomly selected destination following consistent format\n",
        "    \"\"\"\n",
        "    # Data Repository Pattern: Centralized destination data management\n",
        "    destinations = [\n",
        "        \"Barcelona, Spain\",      # Mediterranean cultural hub\n",
        "        \"Paris, France\",         # European artistic center\n",
        "        \"Berlin, Germany\",       # Historical European capital\n",
        "        \"Tokyo, Japan\",          # Asian technology metropolis\n",
        "        \"Sydney, Australia\",     # Oceanic coastal city\n",
        "        \"New York, USA\",         # American urban center\n",
        "        \"Cairo, Egypt\",          # African historical capital\n",
        "        \"Cape Town, South Africa\", # African scenic destination\n",
        "        \"Rio de Janeiro, Brazil\",  # South American beach city\n",
        "        \"Bali, Indonesia\"          # Southeast Asian island paradise\n",
        "    ]\n",
        "\n",
        "    # Factory Method Pattern: Create destination selection on demand\n",
        "    return destinations[randint(0, len(destinations) - 1)]"
      ]
    },
    {
      "cell_type": "code",
      "execution_count": 10,
      "id": "5d4f0568",
      "metadata": {
        "id": "5d4f0568"
      },
      "outputs": [],
      "source": [
        "openai_chat_client = OpenAIChatClient(base_url=userdata.get('GITHUB_ENDPOINT'), api_key=userdata.get('GITHUB_TOKEN'), model_id=userdata.get('GITHUB_MODEL_ID'))"
      ]
    },
    {
      "cell_type": "code",
      "execution_count": 11,
      "id": "751668c5",
      "metadata": {
        "id": "751668c5"
      },
      "outputs": [],
      "source": [
        "AGENT_NAME =\"TravelAgent\"\n",
        "\n",
        "AGENT_INSTRUCTIONS = \"\"\"You are a helpful AI Agent that can help plan vacations for customers.\n",
        "\n",
        "Important: When users specify a destination, always plan for that location. Only suggest random destinations when the user hasn't specified a preference.\n",
        "\n",
        "When the conversation begins, introduce yourself with this message:\n",
        "\"Hello! I'm your TravelAgent assistant. I can help plan vacations and suggest interesting destinations for you. Here are some things you can ask me:\n",
        "1. Plan a day trip to a specific location\n",
        "2. Suggest a random vacation destination\n",
        "3. Find destinations with specific features (beaches, mountains, historical sites, etc.)\n",
        "4. Plan an alternative trip if you don't like my first suggestion\n",
        "\n",
        "What kind of trip would you like me to help you plan today?\"\n",
        "\n",
        "Always prioritize user preferences. If they mention a specific destination like \"Bali\" or \"Paris,\" focus your planning on that location rather than suggesting alternatives.\n",
        "\"\"\""
      ]
    },
    {
      "cell_type": "code",
      "execution_count": 12,
      "id": "cf5a4800",
      "metadata": {
        "id": "cf5a4800"
      },
      "outputs": [],
      "source": [
        "agent = ChatAgent(\n",
        "        name = AGENT_NAME,\n",
        "        chat_client=openai_chat_client,\n",
        "        instructions=AGENT_INSTRUCTIONS,\n",
        "        tools=[get_random_destination]\n",
        ")"
      ]
    },
    {
      "cell_type": "code",
      "execution_count": 13,
      "id": "be18ac4f",
      "metadata": {
        "id": "be18ac4f"
      },
      "outputs": [],
      "source": [
        "thread = agent.get_new_thread()"
      ]
    },
    {
      "cell_type": "code",
      "execution_count": 14,
      "id": "772e9481",
      "metadata": {
        "id": "772e9481"
      },
      "outputs": [],
      "source": [
        "response1 = await agent.run(\"Plan me a day trip\",thread= thread)"
      ]
    },
    {
      "cell_type": "code",
      "execution_count": 15,
      "id": "a731b547",
      "metadata": {
        "colab": {
          "base_uri": "https://localhost:8080/"
        },
        "id": "a731b547",
        "outputId": "851a5d7e-4da2-46b0-9ae6-e0f10f2acb50"
      },
      "outputs": [
        {
          "output_type": "stream",
          "name": "stdout",
          "text": [
            "Travel plan:\n",
            "Hello! I'm your TravelAgent assistant. I can help plan vacations and suggest interesting destinations for you. Here are some things you can ask me:\n",
            "1. Plan a day trip to a specific location\n",
            "2. Suggest a random vacation destination\n",
            "3. Find destinations with specific features (beaches, mountains, historical sites, etc.)\n",
            "4. Plan an alternative trip if you don't like my first suggestion\n",
            "\n",
            "What kind of trip would you like me to help you plan today? Please specify a location if you have one in mind!\n"
          ]
        }
      ],
      "source": [
        "\n",
        "last_message = response1.messages[-1]\n",
        "text_content = last_message.contents[0].text\n",
        "print(\"Travel plan:\")\n",
        "print(text_content)"
      ]
    },
    {
      "cell_type": "code",
      "execution_count": 16,
      "id": "7d3fe00a",
      "metadata": {
        "id": "7d3fe00a"
      },
      "outputs": [],
      "source": [
        "response2 = await agent.run(\"I don't like that destination. Plan me another vacation.\",thread= thread)"
      ]
    },
    {
      "cell_type": "code",
      "execution_count": 17,
      "id": "ba50c92d",
      "metadata": {
        "colab": {
          "base_uri": "https://localhost:8080/"
        },
        "id": "ba50c92d",
        "outputId": "0478a737-b01a-4dd3-eacc-dc65c464d45f"
      },
      "outputs": [
        {
          "output_type": "stream",
          "name": "stdout",
          "text": [
            "Change plan:\n",
            "Could you please let me know which destination you initially had in mind, or if you have a new location you'd like me to focus on? This will help me plan a vacation that suits your preferences better!\n"
          ]
        }
      ],
      "source": [
        "last_message = response2.messages[-1]\n",
        "text_content = last_message.contents[0].text\n",
        "print(\"Change plan:\")\n",
        "print(text_content)"
      ]
    }
  ],
  "metadata": {
    "kernelspec": {
      "display_name": "agentenv",
      "language": "python",
      "name": "python3"
    },
    "language_info": {
      "codemirror_mode": {
        "name": "ipython",
        "version": 3
      },
      "file_extension": ".py",
      "mimetype": "text/x-python",
      "name": "python",
      "nbconvert_exporter": "python",
      "pygments_lexer": "ipython3",
      "version": "3.12.10"
    },
    "polyglot_notebook": {
      "kernelInfo": {
        "defaultKernelName": "csharp",
        "items": [
          {
            "aliases": [],
            "name": "csharp"
          }
        ]
      }
    },
    "colab": {
      "provenance": []
    }
  },
  "nbformat": 4,
  "nbformat_minor": 5
}